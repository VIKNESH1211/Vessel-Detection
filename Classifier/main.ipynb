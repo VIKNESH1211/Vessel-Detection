{
 "cells": [
  {
   "cell_type": "code",
   "execution_count": 1,
   "metadata": {},
   "outputs": [],
   "source": [
    "import numpy as np\n",
    "import os\n",
    "import pandas as pd\n",
    "import cv2\n",
    "from sklearn.model_selection import train_test_split\n",
    "from keras.utils import to_categorical"
   ]
  },
  {
   "cell_type": "code",
   "execution_count": 2,
   "metadata": {},
   "outputs": [
    {
     "data": {
      "text/html": [
       "<div>\n",
       "<style scoped>\n",
       "    .dataframe tbody tr th:only-of-type {\n",
       "        vertical-align: middle;\n",
       "    }\n",
       "\n",
       "    .dataframe tbody tr th {\n",
       "        vertical-align: top;\n",
       "    }\n",
       "\n",
       "    .dataframe thead th {\n",
       "        text-align: right;\n",
       "    }\n",
       "</style>\n",
       "<table border=\"1\" class=\"dataframe\">\n",
       "  <thead>\n",
       "    <tr style=\"text-align: right;\">\n",
       "      <th></th>\n",
       "      <th>image</th>\n",
       "      <th>category</th>\n",
       "    </tr>\n",
       "  </thead>\n",
       "  <tbody>\n",
       "    <tr>\n",
       "      <th>0</th>\n",
       "      <td>2823080.jpg</td>\n",
       "      <td>1</td>\n",
       "    </tr>\n",
       "    <tr>\n",
       "      <th>1</th>\n",
       "      <td>2870024.jpg</td>\n",
       "      <td>1</td>\n",
       "    </tr>\n",
       "    <tr>\n",
       "      <th>2</th>\n",
       "      <td>2662125.jpg</td>\n",
       "      <td>2</td>\n",
       "    </tr>\n",
       "    <tr>\n",
       "      <th>3</th>\n",
       "      <td>2900420.jpg</td>\n",
       "      <td>3</td>\n",
       "    </tr>\n",
       "    <tr>\n",
       "      <th>4</th>\n",
       "      <td>2804883.jpg</td>\n",
       "      <td>2</td>\n",
       "    </tr>\n",
       "    <tr>\n",
       "      <th>...</th>\n",
       "      <td>...</td>\n",
       "      <td>...</td>\n",
       "    </tr>\n",
       "    <tr>\n",
       "      <th>6247</th>\n",
       "      <td>2881056.jpg</td>\n",
       "      <td>3</td>\n",
       "    </tr>\n",
       "    <tr>\n",
       "      <th>6248</th>\n",
       "      <td>1145083.jpg</td>\n",
       "      <td>2</td>\n",
       "    </tr>\n",
       "    <tr>\n",
       "      <th>6249</th>\n",
       "      <td>2898652.jpg</td>\n",
       "      <td>5</td>\n",
       "    </tr>\n",
       "    <tr>\n",
       "      <th>6250</th>\n",
       "      <td>2868175.jpg</td>\n",
       "      <td>3</td>\n",
       "    </tr>\n",
       "    <tr>\n",
       "      <th>6251</th>\n",
       "      <td>2784171.jpg</td>\n",
       "      <td>1</td>\n",
       "    </tr>\n",
       "  </tbody>\n",
       "</table>\n",
       "<p>6252 rows × 2 columns</p>\n",
       "</div>"
      ],
      "text/plain": [
       "            image  category\n",
       "0     2823080.jpg         1\n",
       "1     2870024.jpg         1\n",
       "2     2662125.jpg         2\n",
       "3     2900420.jpg         3\n",
       "4     2804883.jpg         2\n",
       "...           ...       ...\n",
       "6247  2881056.jpg         3\n",
       "6248  1145083.jpg         2\n",
       "6249  2898652.jpg         5\n",
       "6250  2868175.jpg         3\n",
       "6251  2784171.jpg         1\n",
       "\n",
       "[6252 rows x 2 columns]"
      ]
     },
     "execution_count": 2,
     "metadata": {},
     "output_type": "execute_result"
    }
   ],
   "source": [
    "dataset = pd.read_csv('./train/train.csv')\n",
    "dataset"
   ]
  },
  {
   "cell_type": "code",
   "execution_count": 3,
   "metadata": {},
   "outputs": [
    {
     "data": {
      "text/plain": [
       "count    6252.000000\n",
       "mean        2.657550\n",
       "std         1.528998\n",
       "min         1.000000\n",
       "25%         1.000000\n",
       "50%         2.000000\n",
       "75%         4.000000\n",
       "max         5.000000\n",
       "Name: category, dtype: float64"
      ]
     },
     "execution_count": 3,
     "metadata": {},
     "output_type": "execute_result"
    }
   ],
   "source": [
    "dataset['category'].describe()"
   ]
  },
  {
   "cell_type": "code",
   "execution_count": 4,
   "metadata": {},
   "outputs": [
    {
     "data": {
      "text/plain": [
       "'d:\\\\ADG Probation\\\\Ship classifier\\\\train\\\\images'"
      ]
     },
     "execution_count": 4,
     "metadata": {},
     "output_type": "execute_result"
    }
   ],
   "source": [
    "os.chdir('./train/images/')\n",
    "os.getcwd()"
   ]
  },
  {
   "cell_type": "code",
   "execution_count": 6,
   "metadata": {},
   "outputs": [],
   "source": [
    "image_name = dataset['image']\n",
    "image_name = np.array(image_name)"
   ]
  },
  {
   "cell_type": "code",
   "execution_count": 7,
   "metadata": {},
   "outputs": [
    {
     "data": {
      "text/plain": [
       "array(['2823080.jpg', '2870024.jpg', '2662125.jpg', ..., '2898652.jpg',\n",
       "       '2868175.jpg', '2784171.jpg'], dtype=object)"
      ]
     },
     "execution_count": 7,
     "metadata": {},
     "output_type": "execute_result"
    }
   ],
   "source": [
    "image_name"
   ]
  },
  {
   "cell_type": "code",
   "execution_count": 8,
   "metadata": {},
   "outputs": [],
   "source": [
    "label = dataset['category']\n",
    "label = np.array(label)"
   ]
  },
  {
   "cell_type": "code",
   "execution_count": 9,
   "metadata": {},
   "outputs": [
    {
     "data": {
      "text/plain": [
       "array([1, 1, 2, ..., 5, 3, 1], dtype=int64)"
      ]
     },
     "execution_count": 9,
     "metadata": {},
     "output_type": "execute_result"
    }
   ],
   "source": [
    "label"
   ]
  },
  {
   "cell_type": "code",
   "execution_count": 10,
   "metadata": {},
   "outputs": [],
   "source": [
    "list = []\n",
    "\n",
    "for image in image_name:\n",
    "    im = cv2.imread('./'+image , 1)\n",
    "    im = cv2.resize(im ,(100,100))\n",
    "    list.append(im)\n",
    "\n",
    "list1 = np.array(list)"
   ]
  },
  {
   "cell_type": "code",
   "execution_count": 11,
   "metadata": {},
   "outputs": [
    {
     "name": "stdout",
     "output_type": "stream",
     "text": [
      "(5626, 100, 100, 3) (5626,)\n",
      "(626, 100, 100, 3) (626,)\n"
     ]
    }
   ],
   "source": [
    "x_train , x_test , y_train , y_test = train_test_split(list1 ,label , test_size=0.1)\n",
    "print(x_train.shape , y_train.shape)\n",
    "print(x_test.shape , y_test.shape)\n"
   ]
  },
  {
   "cell_type": "code",
   "execution_count": 12,
   "metadata": {},
   "outputs": [
    {
     "name": "stdout",
     "output_type": "stream",
     "text": [
      "(4613, 100, 100, 3) (4613,)\n",
      "(626, 100, 100, 3) (626,)\n",
      "(1013, 100, 100, 3) (1013,)\n"
     ]
    }
   ],
   "source": [
    "X_train, X_val, Y_train, Y_val = train_test_split(x_train, y_train, test_size=0.18, random_state=1)\n",
    "print(X_train.shape , Y_train.shape)\n",
    "print(x_test.shape , y_test.shape)\n",
    "print(X_val.shape , Y_val.shape )"
   ]
  },
  {
   "cell_type": "code",
   "execution_count": 13,
   "metadata": {},
   "outputs": [
    {
     "name": "stdout",
     "output_type": "stream",
     "text": [
      "(4613, 6)\n",
      "(626, 6)\n",
      "(1013, 6)\n"
     ]
    }
   ],
   "source": [
    "Y_train = to_categorical(Y_train)\n",
    "print(Y_train.shape)\n",
    "y_test = to_categorical(y_test)\n",
    "print(y_test.shape)\n",
    "Y_val = to_categorical(Y_val)\n",
    "print(Y_val.shape)"
   ]
  },
  {
   "cell_type": "code",
   "execution_count": 14,
   "metadata": {},
   "outputs": [
    {
     "name": "stdout",
     "output_type": "stream",
     "text": [
      "[0. 1. 0. 0. 0. 0.]\n"
     ]
    }
   ],
   "source": [
    "print(y_test[0])"
   ]
  },
  {
   "cell_type": "code",
   "execution_count": 16,
   "metadata": {},
   "outputs": [],
   "source": [
    "X_train = X_train/255.0\n",
    "x_test = x_test/255.0\n",
    "X_val = X_val/255.0"
   ]
  },
  {
   "cell_type": "code",
   "execution_count": 17,
   "metadata": {},
   "outputs": [],
   "source": [
    "import tensorflow as tf\n",
    "from tensorflow.keras.models import Sequential\n",
    "from tensorflow.keras.layers import Dense, Conv2D,Dropout, Flatten, MaxPooling2D"
   ]
  },
  {
   "cell_type": "code",
   "execution_count": 18,
   "metadata": {},
   "outputs": [
    {
     "name": "stdout",
     "output_type": "stream",
     "text": [
      "Num GPUs Available:  1\n"
     ]
    }
   ],
   "source": [
    "print(\"Num GPUs Available: \", len(tf.config.list_physical_devices('GPU')))"
   ]
  },
  {
   "cell_type": "code",
   "execution_count": 19,
   "metadata": {},
   "outputs": [
    {
     "name": "stdout",
     "output_type": "stream",
     "text": [
      "WARNING:tensorflow:`input_shape` is undefined or non-square, or `rows` is not in [96, 128, 160, 192, 224]. Weights for input shape (224, 224) will be loaded as the default.\n"
     ]
    }
   ],
   "source": [
    "\n",
    "\n",
    "IMG_SHAPE = (100, 100, 3)\n",
    "\n",
    "base_model = tf.keras.applications.MobileNetV2(input_shape=IMG_SHAPE,\n",
    "                                               include_top=False,\n",
    "                                               weights='imagenet')\n",
    "global_average_layer = tf.keras.layers.GlobalAveragePooling2D()\n",
    "prediction_layer = tf.keras.layers.Dense(6,activation='softmax')\n",
    "\n",
    "\n",
    "model = tf.keras.Sequential([\n",
    "  base_model,\n",
    "  global_average_layer,\n",
    "  prediction_layer\n",
    "])\n",
    "\n",
    "base_learning_rate = 0.00001\n",
    "model.compile(optimizer=tf.keras.optimizers.RMSprop(learning_rate=base_learning_rate),\n",
    "              loss=tf.keras.losses.CategoricalCrossentropy(from_logits=False),\n",
    "              metrics=['accuracy'])"
   ]
  },
  {
   "cell_type": "code",
   "execution_count": 20,
   "metadata": {},
   "outputs": [
    {
     "name": "stdout",
     "output_type": "stream",
     "text": [
      "Model: \"sequential\"\n",
      "_________________________________________________________________\n",
      " Layer (type)                Output Shape              Param #   \n",
      "=================================================================\n",
      " mobilenetv2_1.00_224 (Funct  (None, 4, 4, 1280)       2257984   \n",
      " ional)                                                          \n",
      "                                                                 \n",
      " global_average_pooling2d (G  (None, 1280)             0         \n",
      " lobalAveragePooling2D)                                          \n",
      "                                                                 \n",
      " dense (Dense)               (None, 6)                 7686      \n",
      "                                                                 \n",
      "=================================================================\n",
      "Total params: 2,265,670\n",
      "Trainable params: 2,231,558\n",
      "Non-trainable params: 34,112\n",
      "_________________________________________________________________\n",
      "None\n"
     ]
    }
   ],
   "source": [
    "print(model.summary())"
   ]
  },
  {
   "cell_type": "code",
   "execution_count": 21,
   "metadata": {},
   "outputs": [],
   "source": [
    "#model.compile(loss = 'categorical_crossentropy', optimizer='Adam', metrics=['accuracy'])"
   ]
  },
  {
   "cell_type": "code",
   "execution_count": 22,
   "metadata": {},
   "outputs": [
    {
     "name": "stdout",
     "output_type": "stream",
     "text": [
      "Epoch 1/20\n",
      "145/145 [==============================] - 26s 114ms/step - loss: 1.7968 - accuracy: 0.3195 - val_loss: 3.0614 - val_accuracy: 0.1412\n",
      "Epoch 2/20\n",
      "145/145 [==============================] - 14s 100ms/step - loss: 1.1583 - accuracy: 0.5534 - val_loss: 2.0683 - val_accuracy: 0.3129\n",
      "Epoch 3/20\n",
      "145/145 [==============================] - 14s 99ms/step - loss: 0.8839 - accuracy: 0.6636 - val_loss: 1.3909 - val_accuracy: 0.4817\n",
      "Epoch 4/20\n",
      "145/145 [==============================] - 14s 99ms/step - loss: 0.7182 - accuracy: 0.7297 - val_loss: 1.0799 - val_accuracy: 0.5597\n",
      "Epoch 5/20\n",
      "145/145 [==============================] - 14s 99ms/step - loss: 0.6078 - accuracy: 0.7795 - val_loss: 0.9206 - val_accuracy: 0.6209\n",
      "Epoch 6/20\n",
      "145/145 [==============================] - 14s 99ms/step - loss: 0.5210 - accuracy: 0.8114 - val_loss: 0.8329 - val_accuracy: 0.6654\n",
      "Epoch 7/20\n",
      "145/145 [==============================] - 15s 101ms/step - loss: 0.4512 - accuracy: 0.8381 - val_loss: 0.7581 - val_accuracy: 0.7038\n",
      "Epoch 8/20\n",
      "145/145 [==============================] - 15s 101ms/step - loss: 0.3955 - accuracy: 0.8652 - val_loss: 0.7191 - val_accuracy: 0.7187\n",
      "Epoch 9/20\n",
      "145/145 [==============================] - 15s 102ms/step - loss: 0.3421 - accuracy: 0.8827 - val_loss: 0.6695 - val_accuracy: 0.7305\n",
      "Epoch 10/20\n",
      "145/145 [==============================] - 15s 101ms/step - loss: 0.3116 - accuracy: 0.8910 - val_loss: 0.6451 - val_accuracy: 0.7493\n",
      "Epoch 11/20\n",
      "145/145 [==============================] - 15s 101ms/step - loss: 0.2677 - accuracy: 0.9148 - val_loss: 0.6113 - val_accuracy: 0.7532\n",
      "Epoch 12/20\n",
      "145/145 [==============================] - 15s 101ms/step - loss: 0.2406 - accuracy: 0.9261 - val_loss: 0.5831 - val_accuracy: 0.7808\n",
      "Epoch 13/20\n",
      "145/145 [==============================] - 15s 101ms/step - loss: 0.2031 - accuracy: 0.9426 - val_loss: 0.5663 - val_accuracy: 0.7907\n",
      "Epoch 14/20\n",
      "145/145 [==============================] - 15s 105ms/step - loss: 0.1774 - accuracy: 0.9508 - val_loss: 0.5649 - val_accuracy: 0.7868\n",
      "Epoch 15/20\n",
      "145/145 [==============================] - 16s 107ms/step - loss: 0.1547 - accuracy: 0.9616 - val_loss: 0.5385 - val_accuracy: 0.8065\n",
      "Epoch 16/20\n",
      "145/145 [==============================] - 15s 103ms/step - loss: 0.1332 - accuracy: 0.9677 - val_loss: 0.5307 - val_accuracy: 0.7976\n",
      "Epoch 17/20\n",
      "145/145 [==============================] - 14s 98ms/step - loss: 0.1137 - accuracy: 0.9718 - val_loss: 0.5161 - val_accuracy: 0.8075\n",
      "Epoch 18/20\n",
      "145/145 [==============================] - 15s 104ms/step - loss: 0.1028 - accuracy: 0.9762 - val_loss: 0.5223 - val_accuracy: 0.8134\n",
      "Epoch 19/20\n",
      "145/145 [==============================] - 15s 105ms/step - loss: 0.0866 - accuracy: 0.9809 - val_loss: 0.5083 - val_accuracy: 0.8213\n",
      "Epoch 20/20\n",
      "145/145 [==============================] - 15s 106ms/step - loss: 0.0784 - accuracy: 0.9824 - val_loss: 0.5151 - val_accuracy: 0.8144\n"
     ]
    }
   ],
   "source": [
    "hist = model.fit(X_train , Y_train , epochs=20 , validation_data=(X_val, Y_val), verbose = 1)"
   ]
  },
  {
   "cell_type": "code",
   "execution_count": 24,
   "metadata": {},
   "outputs": [
    {
     "name": "stdout",
     "output_type": "stream",
     "text": [
      "20/20 [==============================] - 1s 48ms/step - loss: 0.5590 - accuracy: 0.8131\n"
     ]
    }
   ],
   "source": [
    "eval = model.evaluate(x_test, y_test, verbose = 1 )"
   ]
  },
  {
   "cell_type": "code",
   "execution_count": 26,
   "metadata": {},
   "outputs": [],
   "source": [
    "model.save(\"D:\\ADG Probation\\Ship classifier\\mobilenetv2.hdf5\")"
   ]
  },
  {
   "cell_type": "code",
   "execution_count": 27,
   "metadata": {},
   "outputs": [],
   "source": [
    "import matplotlib.pyplot as plt\n",
    "\n",
    "\n",
    "def plot_hist(hist):\n",
    "    plt.plot(hist.history[\"accuracy\"])\n",
    "    plt.plot(hist.history[\"val_accuracy\"])\n",
    "    plt.title(\"model accuracy\")\n",
    "    plt.ylabel(\"accuracy\")\n",
    "    plt.xlabel(\"epoch\")\n",
    "    plt.legend([\"train\", \"validation\"], loc=\"upper left\")\n",
    "    plt.show()"
   ]
  },
  {
   "cell_type": "code",
   "execution_count": 29,
   "metadata": {},
   "outputs": [
    {
     "data": {
      "image/png": "[encoded data removed]",
      "text/plain": [
       "<Figure size 432x288 with 1 Axes>"
      ]
     },
     "metadata": {
      "needs_background": "light"
     },
     "output_type": "display_data"
    }
   ],
   "source": [
    "plot_hist(hist)"
   ]
  },
  {
   "cell_type": "code",
   "execution_count": 30,
   "metadata": {},
   "outputs": [],
   "source": [
    "def plot_hist(hist):\n",
    "    plt.plot(hist.history[\"loss\"])\n",
    "    plt.plot(hist.history[\"val_loss\"])\n",
    "    plt.title(\"model loss\")\n",
    "    plt.ylabel(\"loss\")\n",
    "    plt.xlabel(\"epoch\")\n",
    "    plt.legend([\"train\", \"validation\"], loc=\"upper left\")\n",
    "    plt.show()"
   ]
  },
  {
   "cell_type": "code",
   "execution_count": 31,
   "metadata": {},
   "outputs": [
    {
     "data": {
      "image/png": "[encoded data removed]",
      "text/plain": [
       "<Figure size 432x288 with 1 Axes>"
      ]
     },
     "metadata": {
      "needs_background": "light"
     },
     "output_type": "display_data"
    }
   ],
   "source": [
    "plot_hist(hist)"
   ]
  }
 ],
 "metadata": {
  "kernelspec": {
   "display_name": "Python 3.9.12 ('base')",
   "language": "python",
   "name": "python3"
  },
  "language_info": {
   "codemirror_mode": {
    "name": "ipython",
    "version": 3
   },
   "file_extension": ".py",
   "mimetype": "text/x-python",
   "name": "python",
   "nbconvert_exporter": "python",
   "pygments_lexer": "ipython3",
   "version": "3.9.12"
  },
  "orig_nbformat": 4,
  "vscode": {
   "interpreter": {
    "hash": "6fa20e30b057ebd6b5c548a33de14789bcd1ee59bdb1d8aadd5188efa915b212"
   }
  }
 },
 "nbformat": 4,
 "nbformat_minor": 2
}
